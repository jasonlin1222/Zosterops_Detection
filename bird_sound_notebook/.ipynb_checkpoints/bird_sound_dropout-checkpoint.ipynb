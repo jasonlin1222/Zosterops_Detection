{
 "cells": [
  {
   "cell_type": "markdown",
   "metadata": {
    "id": "gb1KYydZ_27J"
   },
   "source": [
    "# Bird Sound Recognize"
   ]
  },
  {
   "cell_type": "markdown",
   "metadata": {
    "id": "3b6Aw7jPFbzs"
   },
   "source": [
    "## Value Setting"
   ]
  },
  {
   "cell_type": "markdown",
   "metadata": {
    "id": "7G51hD67_pPy"
   },
   "source": [
    "### Train Value"
   ]
  },
  {
   "cell_type": "code",
   "execution_count": 47,
   "metadata": {
    "colab": {
     "base_uri": "https://localhost:8080/"
    },
    "executionInfo": {
     "elapsed": 16,
     "status": "ok",
     "timestamp": 1657375605537,
     "user": {
      "displayName": "Po-Han Lee",
      "userId": "10869935399171361419"
     },
     "user_tz": -480
    },
    "id": "6_F3-OSI98cN",
    "outputId": "89c2641a-88dc-4495-fcb1-290e990f22e6"
   },
   "outputs": [
    {
     "name": "stdout",
     "output_type": "stream",
     "text": [
      "[512, 0, 128, 0, 64, 16]\n"
     ]
    }
   ],
   "source": [
    "SOUND_PATH = r\"./dataset/raw\"\n",
    "DATASET_PATH = r\"./dataset/Tyler_data\"\n",
    "WAV_PATH = r\"\"\n",
    "\n",
    "MODEL_NAME = \"Model_test\"\n",
    "\n",
    "TIME_STEP = 20 \n",
    "SOUND_LENGTH = 128\n",
    "TEST_DATA_RATIO = 0.2\n",
    "INPUT_SHAPE = (TIME_STEP, SOUND_LENGTH)\n",
    "CLASSES = [\"before_net\", \"build_net\",\"fail\", \"hug_egg\", \"out_net\", \"spawn\", \"yu_zhu_gi\"]\n",
    "\n",
    "MODEL_CONV1DS = [256, 0, 256]\n",
    "MODEL_LAYERS_POW = [8, 7, 8, 9, 8]\n",
    "MODEL_LAYERS = [512, 0, 128, 0, 64, 16]\n",
    "BATCH_SIZE = 60\n",
    "EPOCHS = 100\n",
    "print(MODEL_LAYERS)"
   ]
  },
  {
   "cell_type": "markdown",
   "metadata": {
    "id": "dijA9CM-LU7p"
   },
   "source": [
    "#### debug"
   ]
  },
  {
   "cell_type": "markdown",
   "metadata": {
    "id": "L_maL2k9Ev6F"
   },
   "source": [
    "## Prepare All Tool"
   ]
  },
  {
   "cell_type": "markdown",
   "metadata": {
    "id": "vNyofQOUACfX"
   },
   "source": [
    "### Prepare Package"
   ]
  },
  {
   "cell_type": "code",
   "execution_count": 48,
   "metadata": {
    "id": "NfvbyEIV-3hx"
   },
   "outputs": [
    {
     "name": "stdout",
     "output_type": "stream",
     "text": [
      "import package complete\n"
     ]
    }
   ],
   "source": [
    "# using tensorflow 1.15\n",
    "\n",
    "# !pip install keras-multi-head\n",
    "import os\n",
    "import random\n",
    "from tensorflow import keras\n",
    "import tensorflow as tf\n",
    "from tensorflow.keras.models import Sequential, Model\n",
    "from tensorflow.keras.layers import Dense, Conv1D, MaxPool1D, Flatten, Dropout\n",
    "from tensorflow.keras.layers import Input, TimeDistributed, Dense, Embedding, LayerNormalization\n",
    "from tensorflow.keras.utils import to_categorical\n",
    "# from tensorflow.keras.layers import MultiHeadAttention\n",
    "# from transformers import DistilBertTokenizerFast #, TFDistilBertModel\n",
    "# from transformers import TFDistilBertForTokenClassification\n",
    "from tqdm import tqdm_notebook as tqdm\n",
    "import numpy as np\n",
    "import matplotlib.pyplot as plt\n",
    "import json\n",
    "import librosa\n",
    "import librosa.display\n",
    "import pickle\n",
    "from sklearn.metrics import classification_report\n",
    "import itertools\n",
    "from sklearn.metrics import confusion_matrix\n",
    "print(\"import package complete\")"
   ]
  },
  {
   "cell_type": "markdown",
   "metadata": {
    "id": "_BI0wNrk_oQp"
   },
   "source": [
    "### Sound Proccess Tool"
   ]
  },
  {
   "cell_type": "code",
   "execution_count": 49,
   "metadata": {
    "id": "m57p0yPR_Hvv"
   },
   "outputs": [],
   "source": [
    "class SoundProcessor:\n",
    "    def __init__(self):\n",
    "        self.data = []\n",
    "        self.sr = None\n",
    "\n",
    "    def load_sound(self, path):\n",
    "        self.data, self.sr = librosa.load(path)\n",
    "        return self.data\n",
    "\n",
    "    def transform_mfcc(self, data):\n",
    "        mfcc = librosa.feature.mfcc(y=data, sr=self.sr, n_mfcc=SOUND_LENGTH)\n",
    "        arr = mfcc.T #分貝\n",
    "        arr = arr[np.shape(arr)[0] % TIME_STEP:, :]\n",
    "        return arr\n",
    "\n",
    "    def plot_mfcc(self, data, save_path):\n",
    "        arr = librosa.feature.mfcc(y=data, sr=self.sr, dct_type=3)\n",
    "        arr = arr.T\n",
    "        mfccArr = arr[np.shape(arr)[0] % TIME_STEP:, :]\n",
    "        count = 0\n",
    "        if mfccArr.shape[0] < TIME_STEP:\n",
    "            print(\"Arr is too short, ignored.\", mfccArr.shape)\n",
    "            return\n",
    "        for subArr in np.split(mfccArr, mfccArr.shape[0] // TIME_STEP):\n",
    "            count += 1\n",
    "            fig, ax = plt.subplots()\n",
    "            img = librosa.display.specshow(subArr, ax=ax)\n",
    "            fig.colorbar(img, ax=ax)\n",
    "            fig.savefig(save_path[:-4] + f\"_{count}.png\")\n",
    "            fig.clear()\n",
    "\n",
    "    def bird_sound_all_classes_json(self, load_folder, save_path):\n",
    "        if not os.path.exists(save_path):\n",
    "            os.mkdir(save_path)\n",
    "        for folder in os.listdir(load_folder):\n",
    "            load_path = os.path.join(load_folder, folder)\n",
    "            folderData = []\n",
    "            for filename in os.listdir(load_path):\n",
    "                data = self.load_sound(os.path.join(load_path, filename))\n",
    "                mfccArr = self.transform_mfcc(data)\n",
    "                if mfccArr.shape[0] < TIME_STEP:\n",
    "                    print(filename, \"arr is too short, ignored.\", mfccArr.shape)\n",
    "                    continue\n",
    "                for subArr in np.split(mfccArr, mfccArr.shape[0] // TIME_STEP):\n",
    "                    # print(\"test\")\n",
    "                    # print(len(subArr[0]))\n",
    "                    folderData.append(subArr.tolist())\n",
    "                print(filename, \" done.\")\n",
    "            split_idx = max(1, int(len(folderData) * TEST_DATA_RATIO))\n",
    "            random.seed(8787)\n",
    "            random.shuffle(folderData)\n",
    "            test_arr = folderData[:split_idx]\n",
    "            train_arr = folderData[split_idx:]\n",
    "            # print(test_arr)\n",
    "            # print(train_arr)\n",
    "            filename = os.path.join(save_path, folder + \".json\")\n",
    "            with open(filename, \"w\") as f:\n",
    "                print(np.array(test_arr).shape)\n",
    "                print(np.array(train_arr).shape)\n",
    "                data = {\"test\": test_arr, \"train\": train_arr}\n",
    "                json.dump(data, f)\n",
    "            print(folder + \".json\", \" saved.  \\n\", \"Located: \", filename)\n",
    "\n",
    "        print(\"Every folder have done!\")\n",
    "        print(f\"Save at path: {save_path}\")\n",
    "        print(\"==================================================================================================\")\n",
    "\n",
    "    def bird_sound_all_classes_npy(self, load_folder, save_path):\n",
    "        if not os.path.exists(save_path):\n",
    "            os.mkdir(save_path)\n",
    "        for folder in os.listdir(load_folder):\n",
    "            load_path = os.path.join(load_folder, folder)\n",
    "            folderData = []\n",
    "            for filename in os.listdir(os.path.join(load_path)):\n",
    "                data = self.load_sound(os.path.join(load_path, filename))\n",
    "                mfccArr = self.transform_mfcc(data)\n",
    "                if mfccArr.shape[0] < TIME_STEP:\n",
    "                    print(filename, \"arr is too short, ignored.\", mfccArr.shape)\n",
    "                    continue\n",
    "                for subArr in np.split(mfccArr, mfccArr.shape[0] // TIME_STEP):\n",
    "                    folderData.append(subArr)\n",
    "                print(filename, \" done.\")\n",
    "            split_idx = max(1, int(len(folderData) * TEST_DATA_RATIO))\n",
    "            test_arr = folderData[:split_idx]\n",
    "            train_arr = folderData[split_idx:]\n",
    "            random.shuffle(folderData)\n",
    "            test_npy_folder = os.path.join(save_path, \"test\")\n",
    "            train_npy_folder = os.path.join(save_path, \"train\")\n",
    "            if not os.path.exists(test_npy_folder):\n",
    "                os.mkdir(test_npy_folder)\n",
    "            if not os.path.exists(train_npy_folder):\n",
    "                os.mkdir(train_npy_folder)\n",
    "            test_npy_filename = os.path.join(test_npy_folder, folder + \".npy\")\n",
    "            train_npy_filename = os.path.join(train_npy_folder, folder + \".npy\")\n",
    "            np.save(test_npy_filename, np.asarray(test_arr))\n",
    "            # print(test_arr)\n",
    "            np.save(train_npy_filename, np.asarray(train_arr))\n",
    "            print(test_npy_filename, \"saved. length:\", TIME_STEP, \" x \", SOUND_LENGTH)\n",
    "            print(train_npy_filename, \"saved. length:\", TIME_STEP, \" x \", SOUND_LENGTH)\n",
    "\n",
    "        print(\"Every folder have done!\")\n",
    "        print(f\"Save at path: {save_path}\")\n",
    "        print(\"==================================================================================================\")\n",
    "\n",
    "    def instant_transform(self, data):\n",
    "        mfccArr = self.transform_mfcc(data)\n",
    "        if mfccArr.shape[0] < TIME_STEP:\n",
    "            print(\"Video is too short, can't recognize.\")\n",
    "            return np.array([])\n",
    "        queue = [subArr for subArr in np.split(mfccArr, mfccArr.shape[0] // TIME_STEP)]\n",
    "        return np.array(queue)\n",
    "\n",
    "    def load_json(self, load_folder):\n",
    "        x_train = []\n",
    "        y_train = []\n",
    "        x_test = []\n",
    "        y_test = []\n",
    "        for y, filename in enumerate(os.listdir(os.path.join(load_folder, \"JSON\"))):\n",
    "            load_path = os.path.join(load_folder, \"JSON\", filename)\n",
    "            print(load_path)\n",
    "            data = json.load(open(load_path))\n",
    "            print(f\"{filename} have loaded.\")\n",
    "            x_test += data[\"test\"]\n",
    "            x_train += data[\"train\"]\n",
    "            for i in range(len(data[\"test\"])):\n",
    "                y_test.append(y)\n",
    "            for i in range(len(data[\"train\"])):\n",
    "                y_train.append(y)\n",
    "\n",
    "        return np.array(x_train), np.array(y_train), np.array(x_test), np.array(y_test)\n",
    "\n",
    "    def load_npy(self, load_folder):\n",
    "        x_train = []\n",
    "        y_train = []\n",
    "        x_test = []\n",
    "        y_test = []\n",
    "        for y, filename in enumerate(os.listdir(os.path.join(load_folder, \"NPY\", \"train\"))):\n",
    "            load_path = os.path.join(load_folder, \"NPY\", \"train\", filename)\n",
    "            print(load_path)\n",
    "            data = np.load(load_path, allow_pickle=True)\n",
    "            print(f\"{filename} have loaded, shape: \", data.shape)\n",
    "            x_train += data.tolist()\n",
    "            for i in range(data.shape[0]):\n",
    "                y_train.append(y)\n",
    "\n",
    "        for y, filename in enumerate(os.listdir(os.path.join(load_folder, \"NPY\", \"test\"))):\n",
    "            load_path = os.path.join(load_folder, \"NPY\", \"test\", filename)\n",
    "            print(load_path)\n",
    "            data = np.load(load_path, allow_pickle=True)\n",
    "            print(f\"{filename} have loaded, shape: \", data.shape)\n",
    "            x_test += data.tolist()\n",
    "            for i in range(data.shape[0]):\n",
    "                y_test.append(y)\n",
    "        return np.array(x_train), np.array(y_train), np.array(x_test), np.array(y_test)\n",
    "\n",
    "\n",
    "    def plot_bird_sound_all_classes(self, load_folder, save_path):\n",
    "        if not os.path.exists(save_path):\n",
    "            os.mkdir(save_path)\n",
    "        for folder in os.listdir(load_folder):\n",
    "            if not os.path.exists(os.path.join(save_path, folder)):\n",
    "                os.mkdir(os.path.join(save_path, folder))\n",
    "            load_path = os.path.join(load_folder, folder)\n",
    "            for filename in os.listdir(os.path.join(load_path)):\n",
    "                path = os.path.join(save_path, folder, filename)\n",
    "                data = self.load_sound(os.path.join(load_path, filename))\n",
    "                self.plot_mfcc(data, path)\n",
    "                print(folder + \".json\", \" have plot.  \\n\", \"Located: \", path)\n",
    "\n",
    "        print(\"Every figure have done!\")\n",
    "        print(f\"Save at path: {save_path}\")\n",
    "        print(\"==================================================================================================\")\n",
    "\n"
   ]
  },
  {
   "cell_type": "markdown",
   "metadata": {
    "id": "g8Y61psuATWf"
   },
   "source": [
    "### Model Create Tool"
   ]
  },
  {
   "cell_type": "markdown",
   "metadata": {
    "id": "vGyKf7jpCClq"
   },
   "source": [
    "#### Classes TransForm"
   ]
  },
  {
   "cell_type": "code",
   "execution_count": 50,
   "metadata": {
    "id": "SKUL7dmeCLKM"
   },
   "outputs": [],
   "source": [
    "def classes_change(mode):\n",
    "    for i, C in enumerate(CLASSES):\n",
    "        if i == mode:\n",
    "            return C\n",
    "    return \"None\""
   ]
  },
  {
   "cell_type": "markdown",
   "metadata": {
    "id": "UvKm6rLvCa2U"
   },
   "source": [
    "#### Model Basic Functions"
   ]
  },
  {
   "cell_type": "code",
   "execution_count": 75,
   "metadata": {
    "id": "MBplA1UvByKj"
   },
   "outputs": [],
   "source": [
    "def setting(model):\n",
    "    model.compile(optimizer='adam', loss='categorical_crossentropy', metrics=['accuracy'])\n",
    "    return model\n",
    "\n",
    "def fit(model, x_train, y_train, x_test, y_test, batch, epochs):\n",
    "    y_train = to_categorical(y_train, 7)\n",
    "    y_test = to_categorical(y_test, 7)\n",
    "    print(\"START TRAINING==================================================================\")\n",
    "    train_history = model.fit(x=x_train, y=y_train,\n",
    "                  validation_split=0.2,\n",
    "                  epochs=epochs,\n",
    "                  batch_size=batch,\n",
    "                  verbose=2,\n",
    "                  validation_data=(x_test, y_test),\n",
    "                  shuffle=True,\n",
    "                  )\n",
    "    return model, train_history\n",
    "\n",
    "def save(model, save_path, name):\n",
    "    if not os.path.exists(save_path):\n",
    "        os.mkdir(save_path)\n",
    "    model.save(os.path.join(save_path, name+\".h5\"))\n",
    "    print(\"Model have saved.\")\n",
    "\n",
    "def load(save_path):\n",
    "    model = keras.models.load_model(save_path+\".h5\")\n",
    "    model.summary()\n",
    "    return model\n"
   ]
  },
  {
   "cell_type": "markdown",
   "metadata": {
    "id": "CKFYV1NgAnEy"
   },
   "source": [
    "#### Create Model"
   ]
  },
  {
   "cell_type": "markdown",
   "metadata": {
    "id": "4QUXeDAHRWww"
   },
   "source": [
    "##### Conv1D Model"
   ]
  },
  {
   "cell_type": "code",
   "execution_count": 52,
   "metadata": {
    "id": "yKuevYE0ASWi"
   },
   "outputs": [],
   "source": [
    "def createConv1DModel(\n",
    "        name,\n",
    "        n_conv1Ds,\n",
    "        n_layers,\n",
    "        d_input,\n",
    "        n_classes):\n",
    "    \"\"\"\n",
    "    @param name: model name\n",
    "    @param n_conv1Ds: filters of conv1D\n",
    "    @param n_layers: filters of dense\n",
    "    @param d_input: input shape\n",
    "    @param n_classes: output classes\n",
    "    @return: model\n",
    "    \"\"\"\n",
    "    '''\n",
    "    MODEL_CONV1DS = [256, 0, 256]\n",
    "    MODEL_LAYERS = [512, 0, 128, 0, 64, 16]\n",
    "    '''\n",
    "    model = Sequential(name=f\"{name}\")\n",
    "    model.add(Conv1D(128, kernel_size=3, input_shape=d_input, activation=\"relu\"))\n",
    "    model.add(MaxPool1D(pool_size=2))\n",
    "    for i in n_conv1Ds[1:]: #[C, M, D, C, M, / FC, D, FC, D, FC, FC/, FC]\n",
    "        if i == 0:\n",
    "            model.add(Dropout(0.2))\n",
    "        else:\n",
    "            model.add(Conv1D(i, kernel_size=3, activation=\"relu\"))\n",
    "            model.add(MaxPool1D(pool_size=2))\n",
    "    model.add(Flatten())\n",
    "    for i in n_layers:\n",
    "        if i == 0:\n",
    "            model.add(Dropout(0.2))\n",
    "        else:\n",
    "            model.add(Dense(i, activation=\"relu\"))\n",
    "    model.add(Dense(len(n_classes), activation=\"softmax\"))\n",
    "    model.summary()\n",
    "    return model\n"
   ]
  },
  {
   "cell_type": "markdown",
   "metadata": {
    "id": "X8q62NpDwEMZ"
   },
   "source": [
    "#### Get model"
   ]
  },
  {
   "cell_type": "code",
   "execution_count": 53,
   "metadata": {
    "id": "SJM-m-BeAuOx"
   },
   "outputs": [],
   "source": [
    "def get_model():\n",
    "    return createConv1DModel(\"model\",\n",
    "                  MODEL_CONV1DS,\n",
    "                  MODEL_LAYERS,\n",
    "                  INPUT_SHAPE,\n",
    "                  CLASSES,\n",
    "                  )\n"
   ]
  },
  {
   "cell_type": "markdown",
   "metadata": {
    "id": "A8q1CHHgCijl"
   },
   "source": [
    "#### Predict Function"
   ]
  },
  {
   "cell_type": "code",
   "execution_count": 54,
   "metadata": {
    "id": "PjBmatBZCaD9"
   },
   "outputs": [],
   "source": [
    "def predict_classes(model, data):\n",
    "    prediction = [np.argmax(arr) for arr in model.predict(data)]\n",
    "    predict_class = [classes_change(arr) for arr in prediction]\n",
    "    return prediction, predict_class\n"
   ]
  },
  {
   "cell_type": "markdown",
   "metadata": {
    "id": "ao5ElplMCqSi"
   },
   "source": [
    "#### Test Function"
   ]
  },
  {
   "cell_type": "code",
   "execution_count": 55,
   "metadata": {
    "id": "FEfQ9QW0CuML"
   },
   "outputs": [],
   "source": [
    "\n",
    "def test(model, x_test, y_test, test_time=10):\n",
    "    success = 0\n",
    "    predictions, classes = predict_classes(model, x_test)\n",
    "    for i in range(test_time):\n",
    "        index = random.randint(0, len(x_test))\n",
    "        predict = predictions[index]\n",
    "        print(f\"test{i+1}\\t| prediction: \", classes[index], \"\\n     \\t| answer: \", classes_change(y_test[index]))\n",
    "        if predict == y_test[index]:\n",
    "            print(f\"Match\\t| [ O ]\")\n",
    "            success += 1\n",
    "        else:\n",
    "            print(f\"Match\\t| [ X ]\")\n",
    "    print(\"Accuracy: \", success/test_time, \"%.\")\n"
   ]
  },
  {
   "cell_type": "markdown",
   "metadata": {
    "id": "ejs3UQaYCwzT"
   },
   "source": [
    "#### Plot Model's Accuracy & Loss"
   ]
  },
  {
   "cell_type": "code",
   "execution_count": 56,
   "metadata": {
    "id": "oRjzMpL7GOlv"
   },
   "outputs": [],
   "source": [
    "def load_history(load_path, name):\n",
    "    with open(os.path.join(load_path, name+\"_history.p\"), 'rb') as f:\n",
    "        history = pickle.load(f)\n",
    "    print(\"History have loaded\")\n",
    "    return history\n",
    "\n",
    "\n",
    "def save_history(history, save_path, name):\n",
    "  history = history.history\n",
    "  if not os.path.exists(save_path):\n",
    "    os.mkdir(save_path)\n",
    "  with open(os.path.join(save_path, name+\"_history.p\"), 'wb') as f:\n",
    "      pickle.dump(history, f)\n",
    "  print(\"History have saved\")\n",
    "\n",
    "\n",
    "def plot_metric(model_training_history, metric_name_1, metric_name_2, plot_name, is_save=True, save_path=\"\"):\n",
    "    '''\n",
    "    This function will plot the metrics passed to it in a graph.\n",
    "    Args:\n",
    "        model_training_history: A history object containing a record of training and validation\n",
    "                                loss values and metrics values at successive epochs\n",
    "        metric_name_1:          The name of the first metric that needs to be plotted in the graph.\n",
    "        metric_name_2:          The name of the second metric that needs to be plotted in the graph.\n",
    "        plot_name:              The title of the graph.\n",
    "    '''\n",
    "\n",
    "    # Get metric values using metric names as identifiers.\n",
    "    metric_value_1 = model_training_history.history[metric_name_1]\n",
    "    metric_value_2 = model_training_history.history[metric_name_2]\n",
    "\n",
    "    # Construct a range object which will be used as x-axis (horizontal plane) of the graph.\n",
    "    epochs = range(len(metric_value_1))\n",
    "    # Plot the Graph.\n",
    "    fig = plt.figure()\n",
    "    plt.plot(epochs, metric_value_1, 'blue', label=metric_name_1)\n",
    "    plt.plot(epochs, metric_value_2, 'red', label=metric_name_2)\n",
    "\n",
    "    # Add title to the plot.\n",
    "    plt.title(str(plot_name))\n",
    "\n",
    "    # Add legend to the plot.\n",
    "    plt.legend()\n",
    "    plt.show()\n",
    "    if not os.path.exists(save_path) and is_save:\n",
    "      os.mkdir(save_path)\n",
    "\n",
    "    if is_save and save_path != \"\":\n",
    "      fig.savefig(save_path+\".png\")\n",
    "\n",
    "def plot_all(model_training_history):\n",
    "  plot_metric(model_training_history, \"loss\", \"val_loss\", \"Train Loss Vs Train Val Loss\",\n",
    "        True, os.path.join(DATASET_PATH, \"MODEL\", MODEL_NAME + \"_loss\"))\n",
    "  plot_metric(model_training_history, \"acc\", \"val_acc\", \"Train Acc Vs Train Val Acc\",\n",
    "        True, os.path.join(DATASET_PATH, \"MODEL\", MODEL_NAME + \"_acc\"))\n",
    "\n",
    "def plot_confusion_matrix(cm, classes,\n",
    "                          normalize=False,\n",
    "                          title='Confusion matrix',\n",
    "                          cmap=plt.cm.Blues):\n",
    "    \"\"\"\n",
    "    This function prints and plots the confusion matrix.\n",
    "    Normalization can be applied by setting `normalize=True`.\n",
    "    \"\"\"\n",
    "    if normalize:\n",
    "        cm = cm.astype('float') / cm.sum(axis=1)[:, np.newaxis]\n",
    "        print(\"Normalized confusion matrix\")\n",
    "    else:\n",
    "        print('Confusion matrix, without normalization')\n",
    "\n",
    "    print(cm)\n",
    "\n",
    "    plt.imshow(cm, interpolation='nearest', cmap=cmap)\n",
    "    plt.title(title)\n",
    "    plt.colorbar()\n",
    "    tick_marks = np.arange(len(classes))\n",
    "    plt.xticks(tick_marks, classes, rotation=45)\n",
    "    plt.yticks(tick_marks, classes)\n",
    "\n",
    "    fmt = '.2f' if normalize else 'd'\n",
    "    thresh = cm.max() / 2.\n",
    "    for i, j in itertools.product(range(cm.shape[0]), range(cm.shape[1])):\n",
    "        plt.text(j, i, format(cm[i, j], fmt),\n",
    "                 horizontalalignment=\"center\",\n",
    "                 color=\"white\" if cm[i, j] > thresh else \"black\")\n",
    "\n",
    "    plt.ylabel('True label')\n",
    "    plt.xlabel('Predicted label')\n",
    "    plt.tight_layout()"
   ]
  },
  {
   "cell_type": "code",
   "execution_count": 57,
   "metadata": {
    "id": "bP8YOTJkC3pg"
   },
   "outputs": [],
   "source": [
    "def plot(history, save_path, name):\n",
    "    if not os.path.exists(save_path):\n",
    "        os.mkdir(save_path)\n",
    "    print(history.history.keys())\n",
    "    fig = plt.figure()\n",
    "    plt.plot(history.history['accuracy'])\n",
    "    plt.plot(history.history['val_accuracy'])\n",
    "    plt.title('model accuracy')\n",
    "    plt.ylabel('accuracy')\n",
    "    plt.xlabel('epoch')\n",
    "    plt.legend(['train', 'test'], loc='upper left')\n",
    "    plt.show()\n",
    "    fig.savefig(os.path.join(save_path, f\"{name}_accuracy.png\"))\n",
    "\n",
    "    fig = plt.figure()\n",
    "    plt.plot(history.history['loss'])\n",
    "    plt.plot(history.history['val_loss'])\n",
    "    plt.title('model loss')\n",
    "    plt.ylabel('loss')\n",
    "    plt.xlabel('epoch')\n",
    "    plt.legend(['train', 'test'], loc='upper left')\n",
    "    plt.show()\n",
    "    fig.savefig(os.path.join(save_path, f\"{name}_loss.png\"))\n"
   ]
  },
  {
   "cell_type": "markdown",
   "metadata": {
    "id": "zSvMNw-kDHM4"
   },
   "source": [
    "### Main wav proccess"
   ]
  },
  {
   "cell_type": "code",
   "execution_count": 58,
   "metadata": {
    "id": "usq-B7XTDFZN"
   },
   "outputs": [],
   "source": [
    "def main_wav_process(mode):\n",
    "    soundTool = SoundProcessor()\n",
    "    if mode == \"npy\":\n",
    "        soundTool.bird_sound_all_classes_npy(SOUND_PATH, os.path.join(DATASET_PATH, \"NPY\"))\n",
    "    elif mode == \"json\":\n",
    "        soundTool.bird_sound_all_classes_json(SOUND_PATH, os.path.join(DATASET_PATH, \"JSON\"))\n"
   ]
  },
  {
   "cell_type": "markdown",
   "metadata": {
    "id": "PlrMTpFfDhDc"
   },
   "source": [
    "### Data Loader"
   ]
  },
  {
   "cell_type": "code",
   "execution_count": 59,
   "metadata": {
    "id": "JC_MLKEKDZ-W"
   },
   "outputs": [],
   "source": [
    "def data_loader(mode):\n",
    "    soundTool = SoundProcessor()\n",
    "    if mode == \"npy\":\n",
    "        x_train, y_train, x_test, y_test = soundTool.load_npy(DATASET_PATH)\n",
    "    elif mode == \"json\":\n",
    "        x_train, y_train, x_test, y_test = soundTool.load_json(DATASET_PATH)\n",
    "    else:\n",
    "        print(\"Please choice data type.\")\n",
    "        return\n",
    "    return x_train, y_train, x_test, y_test"
   ]
  },
  {
   "cell_type": "markdown",
   "metadata": {
    "id": "qLTTuIPTDtu8"
   },
   "source": [
    "### Main Training\n"
   ]
  },
  {
   "cell_type": "code",
   "execution_count": 76,
   "metadata": {
    "id": "Uw4fKN07Dk_f"
   },
   "outputs": [],
   "source": [
    "def main_training(x_train, y_train, x_test, y_test, modelname):\n",
    "    print(\"x_train: \", x_train.shape)\n",
    "    print(\"y_train: \", y_train.shape)\n",
    "    print(\"x_test: \", x_test.shape)\n",
    "    print(\"y_test: \", y_test.shape)\n",
    "    model = get_model()\n",
    "    model = setting(model)\n",
    "    model, history = fit(model,\n",
    "                x_train, y_train,\n",
    "                x_test, y_test,\n",
    "                BATCH_SIZE,\n",
    "                EPOCHS,\n",
    "                )\n",
    "    save(model, os.path.join(DATASET_PATH, \"MODEL\"), modelname)\n",
    "    #output.clear()\n",
    "    return model, history\n"
   ]
  },
  {
   "cell_type": "markdown",
   "metadata": {
    "id": "Nhrw-Y4TN72y"
   },
   "source": [
    "### Main Plot\n",
    " "
   ]
  },
  {
   "cell_type": "code",
   "execution_count": 61,
   "metadata": {
    "id": "XT36R8d4OAi_"
   },
   "outputs": [],
   "source": [
    "def main_plot(history):\n",
    "    plot_all(history)"
   ]
  },
  {
   "cell_type": "code",
   "execution_count": 62,
   "metadata": {
    "id": "cyp8rx5otDzx"
   },
   "outputs": [],
   "source": [
    "def main_confusion(x_test, y_test):\n",
    "  y_predict = model.predict(x_test)\n",
    "  y_pred = y_predict.argmax(axis=-1)\n",
    "  one_hot_y_test = to_categorical(y_test)\n",
    "  y_true = one_hot_y_test.argmax(axis=-1)\n",
    "  target_names = CLASSES\n",
    "  fig = plt.figure(figsize=(15, 15), dpi=100)\n",
    "  cnf_martrix = confusion_matrix(y_true, y_pred)\n",
    "\n",
    "  plot_confusion_matrix(cnf_martrix, classes=target_names, normalize=True,\n",
    "                      title=\"bird sound recognize confusion matrix\")\n",
    "  plt.show()\n",
    "\n",
    "  fig.savefig(f'{DATASET_PATH}/FIGURE/confusion_matrix_{MODEL_NAME}.png')"
   ]
  },
  {
   "cell_type": "markdown",
   "metadata": {
    "id": "da_OKLmtEJYW"
   },
   "source": [
    "### Main Testing"
   ]
  },
  {
   "cell_type": "code",
   "execution_count": 63,
   "metadata": {
    "id": "Oy10_szZDyra"
   },
   "outputs": [],
   "source": [
    "def main_testing(x_test, y_test):\n",
    "    model = load(os.path.join(DATASET_PATH, \"MODEL\", MODEL_NAME))\n",
    "    test(model, x_test, y_test, 150)"
   ]
  },
  {
   "cell_type": "markdown",
   "metadata": {
    "id": "Fd7mvkx0Ef14"
   },
   "source": [
    "### Main Test wav\n"
   ]
  },
  {
   "cell_type": "code",
   "execution_count": 64,
   "metadata": {
    "id": "JfUw2ynJEUMb"
   },
   "outputs": [],
   "source": [
    "def main_test_wav(wav_path):\n",
    "    model = load(os.path.join(DATASET_PATH, \"MODEL\", MODEL_NAME))\n",
    "    soundTool = SoundProcessor()\n",
    "    data = soundTool.load_sound(wav_path)\n",
    "    mfccData = soundTool.instant_transform(data)\n",
    "    if mfccData.shape[0] != np.array([]).shape[0]:\n",
    "        predictions, classes = predict_classes(model, mfccData)\n",
    "        print(\"Prediction: \", max(classes))"
   ]
  },
  {
   "cell_type": "markdown",
   "metadata": {
    "id": "k7paXdKs-weS"
   },
   "source": [
    "### Main Get MFCC figure"
   ]
  },
  {
   "cell_type": "code",
   "execution_count": 65,
   "metadata": {
    "id": "KPNsJFxR-wF9"
   },
   "outputs": [],
   "source": [
    "def main_mfcc_figure():\n",
    "  soundTool = SoundProcessor()\n",
    "  soundTool.plot_bird_sound_all_classes(SOUND_PATH, os.path.join(DATASET_PATH, \"FIGURE\"))"
   ]
  },
  {
   "cell_type": "markdown",
   "metadata": {
    "id": "SujaDOnLEqeB"
   },
   "source": [
    "## RUN PLACE"
   ]
  },
  {
   "cell_type": "code",
   "execution_count": 66,
   "metadata": {
    "colab": {
     "base_uri": "https://localhost:8080/"
    },
    "executionInfo": {
     "elapsed": 256954,
     "status": "ok",
     "timestamp": 1657375869128,
     "user": {
      "displayName": "Po-Han Lee",
      "userId": "10869935399171361419"
     },
     "user_tz": -480
    },
    "id": "ISeMk3IsLiF1",
    "outputId": "36ae4a0a-46e3-4315-b628-6becad4e03c2"
   },
   "outputs": [
    {
     "name": "stdout",
     "output_type": "stream",
     "text": [
      "0010.wav  done.\n",
      "0004.wav  done.\n",
      "0038.wav  done.\n",
      "0039.wav  done.\n",
      "0005.wav  done.\n",
      "0011.wav  done.\n",
      "0007.wav  done.\n",
      "0013.wav  done.\n",
      "0012.wav  done.\n",
      "0006.wav  done.\n",
      "0002.wav  done.\n",
      "0016.wav  done.\n",
      "0017.wav  done.\n",
      "0003.wav  done.\n",
      "0029.wav  done.\n",
      "0015.wav  done.\n",
      "0001.wav  done.\n",
      "0000.wav  done.\n",
      "0014.wav  done.\n",
      "0028.wav  done.\n",
      "0048.wav  done.\n",
      "0046.wav  done.\n",
      "0047.wav  done.\n",
      "0045.wav  done.\n",
      "0044.wav  done.\n",
      "0040.wav  done.\n",
      "0041.wav  done.\n",
      "0043.wav  done.\n",
      "0042.wav  done.\n",
      "0031.wav  done.\n",
      "0025.wav  done.\n",
      "0019.wav  done.\n",
      "0018.wav  done.\n",
      "0024.wav  done.\n",
      "0030.wav  done.\n",
      "0026.wav  done.\n",
      "0032.wav  done.\n",
      "0033.wav  done.\n",
      "0027.wav  done.\n",
      "0023.wav  done.\n",
      "0037.wav  done.\n",
      "0036.wav  done.\n",
      "0022.wav  done.\n",
      "0008.wav  done.\n",
      "0034.wav  done.\n",
      "0020.wav  done.\n",
      "0021.wav  done.\n",
      "0035.wav  done.\n",
      "0009.wav  done.\n",
      "(111, 20, 128)\n",
      "(444, 20, 128)\n",
      "fail.json  saved.  \n",
      " Located:  ./dataset/Tyler_data/JSON/fail.json\n",
      "0010.wav  done.\n",
      "0004.wav  done.\n",
      "0038.wav  done.\n",
      "0039.wav  done.\n",
      "0005.wav  done.\n",
      "0011.wav  done.\n",
      "0007.wav  done.\n",
      "0013.wav  done.\n",
      "0012.wav  done.\n",
      "0006.wav  done.\n",
      "0002.wav  done.\n",
      "0016.wav  done.\n",
      "0017.wav  done.\n",
      "0003.wav  done.\n",
      "0029.wav  done.\n",
      "0015.wav  done.\n",
      "0001.wav  done.\n",
      "0000.wav  done.\n",
      "0014.wav  done.\n",
      "0028.wav  done.\n",
      "0073.wav  done.\n",
      "0067.wav  done.\n",
      "0066.wav  done.\n",
      "0072.wav  done.\n",
      "0064.wav  done.\n",
      "0070.wav  done.\n",
      "0058.wav  done.\n",
      "0059.wav  done.\n",
      "0071.wav  done.\n",
      "0065.wav  done.\n",
      "0049.wav  done.\n",
      "0061.wav  done.\n",
      "0075.wav  done.\n",
      "0074.wav  done.\n",
      "0060.wav  done.\n",
      "0048.wav arr is too short, ignored. (0, 128)\n",
      "0076.wav  done.\n",
      "0062.wav  done.\n",
      "0063.wav  done.\n",
      "0052.wav  done.\n",
      "0046.wav  done.\n",
      "0047.wav  done.\n",
      "0053.wav  done.\n",
      "0045.wav  done.\n",
      "0051.wav  done.\n",
      "0050.wav  done.\n",
      "0044.wav  done.\n",
      "0068.wav  done.\n",
      "0040.wav  done.\n",
      "0054.wav  done.\n",
      "0055.wav  done.\n",
      "0041.wav  done.\n",
      "0069.wav  done.\n",
      "0057.wav  done.\n",
      "0043.wav  done.\n",
      "0042.wav  done.\n",
      "0056.wav  done.\n",
      "0031.wav  done.\n",
      "0025.wav  done.\n",
      "0019.wav  done.\n",
      "0018.wav  done.\n",
      "0024.wav  done.\n",
      "0030.wav  done.\n",
      "0026.wav  done.\n",
      "0032.wav  done.\n",
      "0033.wav  done.\n",
      "0027.wav  done.\n",
      "0023.wav  done.\n",
      "0037.wav  done.\n",
      "0036.wav  done.\n",
      "0022.wav  done.\n",
      "0008.wav  done.\n",
      "0034.wav  done.\n",
      "0020.wav  done.\n",
      "0021.wav  done.\n",
      "0035.wav  done.\n",
      "0009.wav  done.\n",
      "(85, 20, 128)\n",
      "(341, 20, 128)\n",
      "yu_zhu_qi.json  saved.  \n",
      " Located:  ./dataset/Tyler_data/JSON/yu_zhu_qi.json\n",
      "0010.wav  done.\n",
      "0004.wav  done.\n",
      "0038.wav  done.\n",
      "0005.wav  done.\n",
      "0011.wav  done.\n",
      "0007.wav  done.\n",
      "0013.wav  done.\n",
      "0012.wav  done.\n",
      "0006.wav  done.\n",
      "0002.wav  done.\n",
      "0016.wav  done.\n",
      "0017.wav  done.\n",
      "0003.wav  done.\n",
      "0029.wav  done.\n",
      "0015.wav  done.\n",
      "0001.wav  done.\n",
      "0000.wav  done.\n",
      "0014.wav  done.\n",
      "0028.wav  done.\n",
      "0031.wav  done.\n",
      "0025.wav arr is too short, ignored. (0, 128)\n",
      "0019.wav  done.\n",
      "0018.wav  done.\n",
      "0024.wav  done.\n",
      "0030.wav  done.\n",
      "0026.wav  done.\n",
      "0032.wav  done.\n",
      "0033.wav  done.\n",
      "0027.wav  done.\n",
      "0023.wav  done.\n",
      "0037.wav  done.\n",
      "0036.wav  done.\n",
      "0022.wav  done.\n",
      "0008.wav  done.\n",
      "0034.wav  done.\n",
      "0020.wav  done.\n",
      "0021.wav  done.\n",
      "0035.wav  done.\n",
      "0009.wav  done.\n",
      "(296, 20, 128)\n",
      "(1185, 20, 128)\n",
      "hug_egg.json  saved.  \n",
      " Located:  ./dataset/Tyler_data/JSON/hug_egg.json\n",
      "0010.wav  done.\n",
      "0004.wav  done.\n",
      "0005.wav  done.\n",
      "0011.wav  done.\n",
      "0007.wav  done.\n",
      "0013.wav  done.\n",
      "0012.wav  done.\n",
      "0006.wav  done.\n",
      "0002.wav  done.\n",
      "0016.wav  done.\n",
      "0017.wav  done.\n",
      "0003.wav  done.\n",
      "0015.wav  done.\n",
      "0001.wav  done.\n",
      "0000.wav  done.\n",
      "0014.wav  done.\n",
      "0059.wav  done.\n",
      "0061.wav  done.\n",
      "0060.wav  done.\n",
      "0062.wav  done.\n",
      "0063.wav  done.\n",
      "0019.wav  done.\n",
      "0018.wav  done.\n",
      "0022.wav  done.\n",
      "0008.wav  done.\n",
      "0020.wav  done.\n",
      "0021.wav  done.\n",
      "0009.wav  done.\n",
      "(157, 20, 128)\n",
      "(628, 20, 128)\n",
      "before_net.json  saved.  \n",
      " Located:  ./dataset/Tyler_data/JSON/before_net.json\n",
      "0010.wav  done.\n",
      "0004.wav  done.\n",
      "0038.wav  done.\n",
      "0039.wav  done.\n",
      "0005.wav  done.\n",
      "0011.wav  done.\n",
      "0007.wav  done.\n",
      "0013.wav  done.\n",
      "0012.wav  done.\n",
      "0006.wav  done.\n",
      "0002.wav  done.\n",
      "0016.wav  done.\n",
      "0017.wav  done.\n",
      "0003.wav  done.\n",
      "0029.wav  done.\n",
      "0015.wav  done.\n",
      "0001.wav  done.\n",
      "0000.wav  done.\n",
      "0014.wav  done.\n",
      "0028.wav  done.\n",
      "0058.wav  done.\n",
      "0059.wav  done.\n",
      "0049.wav  done.\n",
      "0061.wav  done.\n",
      "0060.wav  done.\n",
      "0048.wav  done.\n",
      "0062.wav  done.\n",
      "0063.wav  done.\n",
      "0052.wav  done.\n",
      "0046.wav  done.\n",
      "0047.wav  done.\n",
      "0053.wav  done.\n",
      "0045.wav  done.\n",
      "0051.wav  done.\n",
      "0050.wav  done.\n",
      "0044.wav  done.\n",
      "0040.wav  done.\n",
      "0054.wav  done.\n",
      "0055.wav  done.\n",
      "0041.wav  done.\n",
      "0057.wav  done.\n",
      "0043.wav  done.\n",
      "0042.wav  done.\n",
      "0056.wav  done.\n",
      "0031.wav  done.\n",
      "0025.wav  done.\n",
      "0019.wav  done.\n",
      "0018.wav  done.\n",
      "0024.wav  done.\n",
      "0030.wav  done.\n",
      "0026.wav  done.\n",
      "0032.wav  done.\n",
      "0033.wav  done.\n",
      "0027.wav  done.\n",
      "0023.wav  done.\n",
      "0037.wav  done.\n",
      "0036.wav  done.\n",
      "0022.wav  done.\n",
      "0008.wav  done.\n",
      "0034.wav  done.\n",
      "0020.wav  done.\n",
      "0021.wav  done.\n",
      "0035.wav  done.\n",
      "0009.wav  done.\n",
      "(219, 20, 128)\n",
      "(876, 20, 128)\n",
      "spawn.json  saved.  \n",
      " Located:  ./dataset/Tyler_data/JSON/spawn.json\n",
      "0010.wav  done.\n",
      "0004.wav  done.\n",
      "0005.wav  done.\n",
      "0011.wav  done.\n",
      "0007.wav  done.\n",
      "0013.wav  done.\n",
      "0012.wav  done.\n",
      "0006.wav  done.\n",
      "0002.wav  done.\n",
      "0003.wav  done.\n",
      "0001.wav  done.\n",
      "0000.wav  done.\n",
      "0008.wav  done.\n",
      "0009.wav  done.\n",
      "(250, 20, 128)\n",
      "(1000, 20, 128)\n",
      "out_nest.json  saved.  \n",
      " Located:  ./dataset/Tyler_data/JSON/out_nest.json\n",
      "0010.wav  done.\n",
      "0004.wav  done.\n",
      "0005.wav  done.\n",
      "0011.wav  done.\n",
      "0007.wav  done.\n",
      "0013.wav  done.\n",
      "0012.wav  done.\n",
      "0006.wav  done.\n",
      "0002.wav  done.\n",
      "0016.wav  done.\n",
      "0017.wav  done.\n",
      "0003.wav  done.\n",
      "0015.wav  done.\n",
      "0001.wav  done.\n",
      "0000.wav  done.\n",
      "0014.wav  done.\n",
      "0049.wav  done.\n",
      "0048.wav  done.\n",
      "0052.wav  done.\n",
      "0046.wav  done.\n",
      "0047.wav  done.\n",
      "0045.wav  done.\n",
      "0051.wav  done.\n",
      "0050.wav  done.\n",
      "0044.wav  done.\n",
      "0041.wav  done.\n",
      "0043.wav  done.\n",
      "0042.wav  done.\n",
      "0018.wav  done.\n",
      "0008.wav  done.\n",
      "0009.wav  done.\n",
      "(205, 20, 128)\n",
      "(822, 20, 128)\n",
      "build_nest.json  saved.  \n",
      " Located:  ./dataset/Tyler_data/JSON/build_nest.json\n",
      "Every folder have done!\n",
      "Save at path: ./dataset/Tyler_data/JSON\n",
      "==================================================================================================\n"
     ]
    }
   ],
   "source": [
    "# main_wav_process(\"npy\")\n",
    "main_wav_process(\"json\")"
   ]
  },
  {
   "cell_type": "code",
   "execution_count": 67,
   "metadata": {
    "colab": {
     "base_uri": "https://localhost:8080/"
    },
    "executionInfo": {
     "elapsed": 14164,
     "status": "ok",
     "timestamp": 1657375883279,
     "user": {
      "displayName": "Po-Han Lee",
      "userId": "10869935399171361419"
     },
     "user_tz": -480
    },
    "id": "kw7h2jH5Lk8-",
    "outputId": "92c57840-6337-461a-90b7-cad80641758c"
   },
   "outputs": [
    {
     "name": "stdout",
     "output_type": "stream",
     "text": [
      "./dataset/Tyler_data/JSON/before_net.json\n",
      "before_net.json have loaded.\n",
      "./dataset/Tyler_data/JSON/build_nest.json\n",
      "build_nest.json have loaded.\n",
      "./dataset/Tyler_data/JSON/out_nest.json\n",
      "out_nest.json have loaded.\n",
      "./dataset/Tyler_data/JSON/hug_egg.json\n",
      "hug_egg.json have loaded.\n",
      "./dataset/Tyler_data/JSON/yu_zhu_qi.json\n",
      "yu_zhu_qi.json have loaded.\n",
      "./dataset/Tyler_data/JSON/spawn.json\n",
      "spawn.json have loaded.\n",
      "./dataset/Tyler_data/JSON/fail.json\n",
      "fail.json have loaded.\n"
     ]
    }
   ],
   "source": [
    "x_train, y_train, x_test, y_test = data_loader(\"json\")"
   ]
  },
  {
   "cell_type": "code",
   "execution_count": 68,
   "metadata": {
    "id": "-yXCaNqujjfX"
   },
   "outputs": [],
   "source": [
    "random.seed(None)"
   ]
  },
  {
   "cell_type": "code",
   "execution_count": 69,
   "metadata": {
    "colab": {
     "base_uri": "https://localhost:8080/"
    },
    "executionInfo": {
     "elapsed": 22996,
     "status": "ok",
     "timestamp": 1657375906250,
     "user": {
      "displayName": "Po-Han Lee",
      "userId": "10869935399171361419"
     },
     "user_tz": -480
    },
    "id": "HiryUlXYEpkB",
    "outputId": "ce03cb17-4213-4831-f2f1-3940df9a9007"
   },
   "outputs": [
    {
     "name": "stdout",
     "output_type": "stream",
     "text": [
      "x_train:  (5296, 20, 128)\n",
      "y_train:  (5296,)\n",
      "x_test:  (1323, 20, 128)\n",
      "y_test:  (1323,)\n",
      "Model: \"model\"\n",
      "_________________________________________________________________\n",
      "Layer (type)                 Output Shape              Param #   \n",
      "=================================================================\n",
      "conv1d_2 (Conv1D)            (None, 18, 128)           49280     \n",
      "_________________________________________________________________\n",
      "max_pooling1d_2 (MaxPooling1 (None, 9, 128)            0         \n",
      "_________________________________________________________________\n",
      "dropout_3 (Dropout)          (None, 9, 128)            0         \n",
      "_________________________________________________________________\n",
      "conv1d_3 (Conv1D)            (None, 7, 256)            98560     \n",
      "_________________________________________________________________\n",
      "max_pooling1d_3 (MaxPooling1 (None, 3, 256)            0         \n",
      "_________________________________________________________________\n",
      "flatten_1 (Flatten)          (None, 768)               0         \n",
      "_________________________________________________________________\n",
      "dense_5 (Dense)              (None, 512)               393728    \n",
      "_________________________________________________________________\n",
      "dropout_4 (Dropout)          (None, 512)               0         \n",
      "_________________________________________________________________\n",
      "dense_6 (Dense)              (None, 128)               65664     \n",
      "_________________________________________________________________\n",
      "dropout_5 (Dropout)          (None, 128)               0         \n",
      "_________________________________________________________________\n",
      "dense_7 (Dense)              (None, 64)                8256      \n",
      "_________________________________________________________________\n",
      "dense_8 (Dense)              (None, 16)                1040      \n",
      "_________________________________________________________________\n",
      "dense_9 (Dense)              (None, 7)                 119       \n",
      "=================================================================\n",
      "Total params: 616,647\n",
      "Trainable params: 616,647\n",
      "Non-trainable params: 0\n",
      "_________________________________________________________________\n",
      "START TRAINING==================================================================\n",
      "Train on 5296 samples, validate on 1323 samples\n",
      "Epoch 1/30\n",
      "5296/5296 - 2s - loss: 2.3360 - acc: 0.2149 - val_loss: 1.7246 - val_acc: 0.2933\n",
      "Epoch 2/30\n",
      "5296/5296 - 1s - loss: 1.4110 - acc: 0.3754 - val_loss: 0.8051 - val_acc: 0.6893\n",
      "Epoch 3/30\n",
      "5296/5296 - 1s - loss: 0.6619 - acc: 0.6962 - val_loss: 0.5176 - val_acc: 0.7294\n",
      "Epoch 4/30\n",
      "5296/5296 - 1s - loss: 0.3358 - acc: 0.8603 - val_loss: 0.2179 - val_acc: 0.9033\n",
      "Epoch 5/30\n",
      "5296/5296 - 1s - loss: 0.1723 - acc: 0.9409 - val_loss: 0.0718 - val_acc: 0.9819\n",
      "Epoch 6/30\n",
      "5296/5296 - 1s - loss: 0.0846 - acc: 0.9762 - val_loss: 0.0255 - val_acc: 0.9940\n",
      "Epoch 7/30\n",
      "5296/5296 - 1s - loss: 0.0460 - acc: 0.9873 - val_loss: 0.0235 - val_acc: 0.9955\n",
      "Epoch 8/30\n",
      "5296/5296 - 1s - loss: 0.0267 - acc: 0.9926 - val_loss: 0.0319 - val_acc: 0.9924\n",
      "Epoch 9/30\n",
      "5296/5296 - 1s - loss: 0.0332 - acc: 0.9907 - val_loss: 0.0105 - val_acc: 0.9985\n",
      "Epoch 10/30\n",
      "5296/5296 - 1s - loss: 0.0219 - acc: 0.9938 - val_loss: 0.0227 - val_acc: 0.9940\n",
      "Epoch 11/30\n",
      "5296/5296 - 1s - loss: 0.0178 - acc: 0.9938 - val_loss: 0.0206 - val_acc: 0.9962\n",
      "Epoch 12/30\n",
      "5296/5296 - 1s - loss: 0.0127 - acc: 0.9972 - val_loss: 0.0078 - val_acc: 0.9985\n",
      "Epoch 13/30\n",
      "5296/5296 - 1s - loss: 0.0118 - acc: 0.9974 - val_loss: 0.2289 - val_acc: 0.9554\n",
      "Epoch 14/30\n",
      "5296/5296 - 1s - loss: 0.0451 - acc: 0.9858 - val_loss: 0.0146 - val_acc: 0.9955\n",
      "Epoch 15/30\n",
      "5296/5296 - 1s - loss: 0.0287 - acc: 0.9919 - val_loss: 0.0128 - val_acc: 0.9970\n",
      "Epoch 16/30\n",
      "5296/5296 - 1s - loss: 0.0094 - acc: 0.9974 - val_loss: 0.0049 - val_acc: 0.9985\n",
      "Epoch 17/30\n",
      "5296/5296 - 1s - loss: 0.0039 - acc: 0.9991 - val_loss: 0.1293 - val_acc: 0.9856\n",
      "Epoch 18/30\n",
      "5296/5296 - 1s - loss: 0.0239 - acc: 0.9941 - val_loss: 0.0648 - val_acc: 0.9796\n",
      "Epoch 19/30\n",
      "5296/5296 - 1s - loss: 0.0129 - acc: 0.9962 - val_loss: 0.0030 - val_acc: 0.9992\n",
      "Epoch 20/30\n",
      "5296/5296 - 1s - loss: 0.0030 - acc: 0.9996 - val_loss: 0.0199 - val_acc: 0.9962\n",
      "Epoch 21/30\n",
      "5296/5296 - 1s - loss: 0.0275 - acc: 0.9947 - val_loss: 0.0879 - val_acc: 0.9902\n",
      "Epoch 22/30\n",
      "5296/5296 - 1s - loss: 0.0417 - acc: 0.9919 - val_loss: 0.0453 - val_acc: 0.9879\n",
      "Epoch 23/30\n",
      "5296/5296 - 1s - loss: 0.0132 - acc: 0.9960 - val_loss: 0.0191 - val_acc: 0.9977\n",
      "Epoch 24/30\n",
      "5296/5296 - 1s - loss: 0.0103 - acc: 0.9977 - val_loss: 0.0046 - val_acc: 0.9985\n",
      "Epoch 25/30\n",
      "5296/5296 - 1s - loss: 0.0025 - acc: 0.9996 - val_loss: 0.0060 - val_acc: 0.9977\n",
      "Epoch 26/30\n",
      "5296/5296 - 1s - loss: 4.1348e-04 - acc: 1.0000 - val_loss: 0.0041 - val_acc: 0.9985\n",
      "Epoch 27/30\n",
      "5296/5296 - 1s - loss: 0.0016 - acc: 0.9994 - val_loss: 0.0035 - val_acc: 0.9985\n",
      "Epoch 28/30\n",
      "5296/5296 - 1s - loss: 0.0272 - acc: 0.9941 - val_loss: 0.0155 - val_acc: 0.9947\n",
      "Epoch 29/30\n",
      "5296/5296 - 2s - loss: 0.0200 - acc: 0.9968 - val_loss: 0.0405 - val_acc: 0.9932\n",
      "Epoch 30/30\n",
      "5296/5296 - 1s - loss: 0.0062 - acc: 0.9987 - val_loss: 0.0044 - val_acc: 0.9992\n",
      "Model have saved.\n",
      "\n",
      "\n",
      "The minest loss is 0.004353443425557206 \t| It is at epoch 30\n",
      "The maxest acc is 0.9992441534996033 \t| It is at epoch 30\n",
      "\n",
      "[0.004353443425557206]\n",
      "[0.99924415]\n"
     ]
    }
   ],
   "source": [
    "min_loss = 100000000\n",
    "max_acc = 0\n",
    "each_epoch_loss = []\n",
    "each_epoch_acc = []\n",
    "best_loss_epoch = 0\n",
    "best_acc_epoch = 0\n",
    "for i in range(30, 31):\n",
    "    EPOCHS = i\n",
    "    model, history = main_training(x_train, y_train, x_test, y_test, MODEL_NAME)\n",
    "    min_loss = min(min_loss, history.history[\"val_loss\"][-1])\n",
    "    max_acc = max(max_acc, history.history[\"val_acc\"][-1])\n",
    "    if min_loss == history.history[\"val_loss\"][-1]:\n",
    "        best_loss_epoch = i\n",
    "    if max_acc == history.history[\"val_acc\"][-1]:\n",
    "        best_acc_epoch = i\n",
    "    each_epoch_loss.append(history.history['val_loss'][-1])\n",
    "    each_epoch_acc.append(history.history[\"val_acc\"][-1])\n",
    "\n",
    "print(f\"\\n\\nThe minest loss is {min_loss} \\t| It is at epoch {best_loss_epoch}\")\n",
    "print(f\"The maxest acc is {max_acc} \\t| It is at epoch {best_acc_epoch}\")\n",
    "print()\n",
    "print(each_epoch_loss)\n",
    "print(each_epoch_acc)"
   ]
  },
  {
   "cell_type": "code",
   "execution_count": 70,
   "metadata": {
    "colab": {
     "base_uri": "https://localhost:8080/"
    },
    "executionInfo": {
     "elapsed": 625,
     "status": "ok",
     "timestamp": 1657375906848,
     "user": {
      "displayName": "Po-Han Lee",
      "userId": "10869935399171361419"
     },
     "user_tz": -480
    },
    "id": "svTIR4f1Tb6P",
    "outputId": "16150868-4141-4854-9076-5ddb9ce41432"
   },
   "outputs": [
    {
     "name": "stdout",
     "output_type": "stream",
     "text": [
      "History have saved\n"
     ]
    }
   ],
   "source": [
    "save_history(history, os.path.join(DATASET_PATH, \"HISTORY\"), MODEL_NAME)"
   ]
  },
  {
   "cell_type": "code",
   "execution_count": 71,
   "metadata": {
    "colab": {
     "base_uri": "https://localhost:8080/",
     "height": 545
    },
    "executionInfo": {
     "elapsed": 518,
     "status": "ok",
     "timestamp": 1657375907355,
     "user": {
      "displayName": "Po-Han Lee",
      "userId": "10869935399171361419"
     },
     "user_tz": -480
    },
    "id": "3zQrfP1QRmKw",
    "outputId": "c2e62a01-dbd3-4df1-f5cb-8a42aa2dae78"
   },
   "outputs": [
    {
     "data": {
      "image/png": "[encoded data removed]",
      "text/plain": [
       "<Figure size 432x288 with 1 Axes>"
      ]
     },
     "metadata": {
      "needs_background": "light"
     },
     "output_type": "display_data"
    },
    {
     "data": {
      "image/png": "[encoded data removed]",
      "text/plain": [
       "<Figure size 432x288 with 1 Axes>"
      ]
     },
     "metadata": {
      "needs_background": "light"
     },
     "output_type": "display_data"
    }
   ],
   "source": [
    "main_plot(history)"
   ]
  },
  {
   "cell_type": "code",
   "execution_count": 72,
   "metadata": {
    "colab": {
     "base_uri": "https://localhost:8080/"
    },
    "executionInfo": {
     "elapsed": 1365,
     "status": "ok",
     "timestamp": 1657375908713,
     "user": {
      "displayName": "Po-Han Lee",
      "userId": "10869935399171361419"
     },
     "user_tz": -480
    },
    "id": "WbSg1TEeLsdX",
    "outputId": "0aac5416-37a3-404f-df63-9a4a96558f0d"
   },
   "outputs": [
    {
     "name": "stdout",
     "output_type": "stream",
     "text": [
      "Model: \"model\"\n",
      "_________________________________________________________________\n",
      "Layer (type)                 Output Shape              Param #   \n",
      "=================================================================\n",
      "conv1d_2 (Conv1D)            (None, 18, 128)           49280     \n",
      "_________________________________________________________________\n",
      "max_pooling1d_2 (MaxPooling1 (None, 9, 128)            0         \n",
      "_________________________________________________________________\n",
      "dropout_3 (Dropout)          (None, 9, 128)            0         \n",
      "_________________________________________________________________\n",
      "conv1d_3 (Conv1D)            (None, 7, 256)            98560     \n",
      "_________________________________________________________________\n",
      "max_pooling1d_3 (MaxPooling1 (None, 3, 256)            0         \n",
      "_________________________________________________________________\n",
      "flatten_1 (Flatten)          (None, 768)               0         \n",
      "_________________________________________________________________\n",
      "dense_5 (Dense)              (None, 512)               393728    \n",
      "_________________________________________________________________\n",
      "dropout_4 (Dropout)          (None, 512)               0         \n",
      "_________________________________________________________________\n",
      "dense_6 (Dense)              (None, 128)               65664     \n",
      "_________________________________________________________________\n",
      "dropout_5 (Dropout)          (None, 128)               0         \n",
      "_________________________________________________________________\n",
      "dense_7 (Dense)              (None, 64)                8256      \n",
      "_________________________________________________________________\n",
      "dense_8 (Dense)              (None, 16)                1040      \n",
      "_________________________________________________________________\n",
      "dense_9 (Dense)              (None, 7)                 119       \n",
      "=================================================================\n",
      "Total params: 616,647\n",
      "Trainable params: 616,647\n",
      "Non-trainable params: 0\n",
      "_________________________________________________________________\n",
      "test1\t| prediction:  spawn \n",
      "     \t| answer:  spawn\n",
      "Match\t| [ O ]\n",
      "test2\t| prediction:  hug_egg \n",
      "     \t| answer:  hug_egg\n",
      "Match\t| [ O ]\n",
      "test3\t| prediction:  hug_egg \n",
      "     \t| answer:  hug_egg\n",
      "Match\t| [ O ]\n",
      "test4\t| prediction:  yu_zhu_gi \n",
      "     \t| answer:  yu_zhu_gi\n",
      "Match\t| [ O ]\n",
      "test5\t| prediction:  hug_egg \n",
      "     \t| answer:  hug_egg\n",
      "Match\t| [ O ]\n",
      "test6\t| prediction:  spawn \n",
      "     \t| answer:  spawn\n",
      "Match\t| [ O ]\n",
      "test7\t| prediction:  hug_egg \n",
      "     \t| answer:  hug_egg\n",
      "Match\t| [ O ]\n",
      "test8\t| prediction:  fail \n",
      "     \t| answer:  fail\n",
      "Match\t| [ O ]\n",
      "test9\t| prediction:  spawn \n",
      "     \t| answer:  spawn\n",
      "Match\t| [ O ]\n",
      "test10\t| prediction:  build_net \n",
      "     \t| answer:  build_net\n",
      "Match\t| [ O ]\n",
      "test11\t| prediction:  yu_zhu_gi \n",
      "     \t| answer:  yu_zhu_gi\n",
      "Match\t| [ O ]\n",
      "test12\t| prediction:  fail \n",
      "     \t| answer:  fail\n",
      "Match\t| [ O ]\n",
      "test13\t| prediction:  hug_egg \n",
      "     \t| answer:  hug_egg\n",
      "Match\t| [ O ]\n",
      "test14\t| prediction:  hug_egg \n",
      "     \t| answer:  hug_egg\n",
      "Match\t| [ O ]\n",
      "test15\t| prediction:  hug_egg \n",
      "     \t| answer:  hug_egg\n",
      "Match\t| [ O ]\n",
      "test16\t| prediction:  build_net \n",
      "     \t| answer:  build_net\n",
      "Match\t| [ O ]\n",
      "test17\t| prediction:  hug_egg \n",
      "     \t| answer:  hug_egg\n",
      "Match\t| [ O ]\n",
      "test18\t| prediction:  out_net \n",
      "     \t| answer:  out_net\n",
      "Match\t| [ O ]\n",
      "test19\t| prediction:  fail \n",
      "     \t| answer:  fail\n",
      "Match\t| [ O ]\n",
      "test20\t| prediction:  spawn \n",
      "     \t| answer:  spawn\n",
      "Match\t| [ O ]\n",
      "test21\t| prediction:  spawn \n",
      "     \t| answer:  spawn\n",
      "Match\t| [ O ]\n",
      "test22\t| prediction:  fail \n",
      "     \t| answer:  fail\n",
      "Match\t| [ O ]\n",
      "test23\t| prediction:  hug_egg \n",
      "     \t| answer:  hug_egg\n",
      "Match\t| [ O ]\n",
      "test24\t| prediction:  spawn \n",
      "     \t| answer:  spawn\n",
      "Match\t| [ O ]\n",
      "test25\t| prediction:  out_net \n",
      "     \t| answer:  out_net\n",
      "Match\t| [ O ]\n",
      "test26\t| prediction:  fail \n",
      "     \t| answer:  fail\n",
      "Match\t| [ O ]\n",
      "test27\t| prediction:  hug_egg \n",
      "     \t| answer:  hug_egg\n",
      "Match\t| [ O ]\n",
      "test28\t| prediction:  hug_egg \n",
      "     \t| answer:  hug_egg\n",
      "Match\t| [ O ]\n",
      "test29\t| prediction:  spawn \n",
      "     \t| answer:  spawn\n",
      "Match\t| [ O ]\n",
      "test30\t| prediction:  before_net \n",
      "     \t| answer:  before_net\n",
      "Match\t| [ O ]\n",
      "test31\t| prediction:  hug_egg \n",
      "     \t| answer:  hug_egg\n",
      "Match\t| [ O ]\n",
      "test32\t| prediction:  fail \n",
      "     \t| answer:  fail\n",
      "Match\t| [ O ]\n",
      "test33\t| prediction:  before_net \n",
      "     \t| answer:  before_net\n",
      "Match\t| [ O ]\n",
      "test34\t| prediction:  build_net \n",
      "     \t| answer:  build_net\n",
      "Match\t| [ O ]\n",
      "test35\t| prediction:  spawn \n",
      "     \t| answer:  spawn\n",
      "Match\t| [ O ]\n",
      "test36\t| prediction:  spawn \n",
      "     \t| answer:  spawn\n",
      "Match\t| [ O ]\n",
      "test37\t| prediction:  hug_egg \n",
      "     \t| answer:  hug_egg\n",
      "Match\t| [ O ]\n",
      "test38\t| prediction:  fail \n",
      "     \t| answer:  fail\n",
      "Match\t| [ O ]\n",
      "test39\t| prediction:  fail \n",
      "     \t| answer:  fail\n",
      "Match\t| [ O ]\n",
      "test40\t| prediction:  hug_egg \n",
      "     \t| answer:  hug_egg\n",
      "Match\t| [ O ]\n",
      "test41\t| prediction:  hug_egg \n",
      "     \t| answer:  hug_egg\n",
      "Match\t| [ O ]\n",
      "test42\t| prediction:  before_net \n",
      "     \t| answer:  before_net\n",
      "Match\t| [ O ]\n",
      "test43\t| prediction:  hug_egg \n",
      "     \t| answer:  hug_egg\n",
      "Match\t| [ O ]\n",
      "test44\t| prediction:  hug_egg \n",
      "     \t| answer:  hug_egg\n",
      "Match\t| [ O ]\n",
      "test45\t| prediction:  spawn \n",
      "     \t| answer:  spawn\n",
      "Match\t| [ O ]\n",
      "test46\t| prediction:  before_net \n",
      "     \t| answer:  before_net\n",
      "Match\t| [ O ]\n",
      "test47\t| prediction:  fail \n",
      "     \t| answer:  fail\n",
      "Match\t| [ O ]\n",
      "test48\t| prediction:  spawn \n",
      "     \t| answer:  spawn\n",
      "Match\t| [ O ]\n",
      "test49\t| prediction:  yu_zhu_gi \n",
      "     \t| answer:  yu_zhu_gi\n",
      "Match\t| [ O ]\n",
      "test50\t| prediction:  yu_zhu_gi \n",
      "     \t| answer:  yu_zhu_gi\n",
      "Match\t| [ O ]\n",
      "test51\t| prediction:  before_net \n",
      "     \t| answer:  before_net\n",
      "Match\t| [ O ]\n",
      "test52\t| prediction:  fail \n",
      "     \t| answer:  fail\n",
      "Match\t| [ O ]\n",
      "test53\t| prediction:  yu_zhu_gi \n",
      "     \t| answer:  yu_zhu_gi\n",
      "Match\t| [ O ]\n",
      "test54\t| prediction:  fail \n",
      "     \t| answer:  fail\n",
      "Match\t| [ O ]\n",
      "test55\t| prediction:  yu_zhu_gi \n",
      "     \t| answer:  yu_zhu_gi\n",
      "Match\t| [ O ]\n",
      "test56\t| prediction:  before_net \n",
      "     \t| answer:  before_net\n",
      "Match\t| [ O ]\n",
      "test57\t| prediction:  hug_egg \n",
      "     \t| answer:  hug_egg\n",
      "Match\t| [ O ]\n",
      "test58\t| prediction:  hug_egg \n",
      "     \t| answer:  hug_egg\n",
      "Match\t| [ O ]\n",
      "test59\t| prediction:  build_net \n",
      "     \t| answer:  build_net\n",
      "Match\t| [ O ]\n",
      "test60\t| prediction:  hug_egg \n",
      "     \t| answer:  hug_egg\n",
      "Match\t| [ O ]\n",
      "test61\t| prediction:  spawn \n",
      "     \t| answer:  spawn\n",
      "Match\t| [ O ]\n",
      "test62\t| prediction:  fail \n",
      "     \t| answer:  fail\n",
      "Match\t| [ O ]\n",
      "test63\t| prediction:  hug_egg \n",
      "     \t| answer:  hug_egg\n",
      "Match\t| [ O ]\n",
      "test64\t| prediction:  spawn \n",
      "     \t| answer:  spawn\n",
      "Match\t| [ O ]\n",
      "test65\t| prediction:  spawn \n",
      "     \t| answer:  spawn\n",
      "Match\t| [ O ]\n",
      "test66\t| prediction:  hug_egg \n",
      "     \t| answer:  hug_egg\n",
      "Match\t| [ O ]\n",
      "test67\t| prediction:  spawn \n",
      "     \t| answer:  spawn\n",
      "Match\t| [ O ]\n",
      "test68\t| prediction:  hug_egg \n",
      "     \t| answer:  hug_egg\n",
      "Match\t| [ O ]\n",
      "test69\t| prediction:  fail \n",
      "     \t| answer:  fail\n",
      "Match\t| [ O ]\n",
      "test70\t| prediction:  before_net \n",
      "     \t| answer:  before_net\n",
      "Match\t| [ O ]\n",
      "test71\t| prediction:  fail \n",
      "     \t| answer:  fail\n",
      "Match\t| [ O ]\n",
      "test72\t| prediction:  spawn \n",
      "     \t| answer:  spawn\n",
      "Match\t| [ O ]\n",
      "test73\t| prediction:  spawn \n",
      "     \t| answer:  spawn\n",
      "Match\t| [ O ]\n",
      "test74\t| prediction:  out_net \n",
      "     \t| answer:  out_net\n",
      "Match\t| [ O ]\n",
      "test75\t| prediction:  yu_zhu_gi \n",
      "     \t| answer:  yu_zhu_gi\n",
      "Match\t| [ O ]\n",
      "test76\t| prediction:  build_net \n",
      "     \t| answer:  build_net\n",
      "Match\t| [ O ]\n",
      "test77\t| prediction:  hug_egg \n",
      "     \t| answer:  hug_egg\n",
      "Match\t| [ O ]\n",
      "test78\t| prediction:  before_net \n",
      "     \t| answer:  before_net\n",
      "Match\t| [ O ]\n",
      "test79\t| prediction:  fail \n",
      "     \t| answer:  fail\n",
      "Match\t| [ O ]\n",
      "test80\t| prediction:  fail \n",
      "     \t| answer:  fail\n",
      "Match\t| [ O ]\n",
      "test81\t| prediction:  before_net \n",
      "     \t| answer:  before_net\n",
      "Match\t| [ O ]\n",
      "test82\t| prediction:  fail \n",
      "     \t| answer:  fail\n",
      "Match\t| [ O ]\n",
      "test83\t| prediction:  fail \n",
      "     \t| answer:  fail\n",
      "Match\t| [ O ]\n",
      "test84\t| prediction:  spawn \n",
      "     \t| answer:  spawn\n",
      "Match\t| [ O ]\n",
      "test85\t| prediction:  spawn \n",
      "     \t| answer:  spawn\n",
      "Match\t| [ O ]\n",
      "test86\t| prediction:  yu_zhu_gi \n",
      "     \t| answer:  yu_zhu_gi\n",
      "Match\t| [ O ]\n",
      "test87\t| prediction:  hug_egg \n",
      "     \t| answer:  hug_egg\n",
      "Match\t| [ O ]\n",
      "test88\t| prediction:  before_net \n",
      "     \t| answer:  before_net\n",
      "Match\t| [ O ]\n",
      "test89\t| prediction:  build_net \n",
      "     \t| answer:  build_net\n",
      "Match\t| [ O ]\n",
      "test90\t| prediction:  build_net \n",
      "     \t| answer:  build_net\n",
      "Match\t| [ O ]\n",
      "test91\t| prediction:  build_net \n",
      "     \t| answer:  build_net\n",
      "Match\t| [ O ]\n",
      "test92\t| prediction:  build_net \n",
      "     \t| answer:  build_net\n",
      "Match\t| [ O ]\n",
      "test93\t| prediction:  hug_egg \n",
      "     \t| answer:  hug_egg\n",
      "Match\t| [ O ]\n",
      "test94\t| prediction:  spawn \n",
      "     \t| answer:  spawn\n",
      "Match\t| [ O ]\n",
      "test95\t| prediction:  hug_egg \n",
      "     \t| answer:  hug_egg\n",
      "Match\t| [ O ]\n",
      "test96\t| prediction:  hug_egg \n",
      "     \t| answer:  hug_egg\n",
      "Match\t| [ O ]\n",
      "test97\t| prediction:  yu_zhu_gi \n",
      "     \t| answer:  yu_zhu_gi\n",
      "Match\t| [ O ]\n",
      "test98\t| prediction:  build_net \n",
      "     \t| answer:  build_net\n",
      "Match\t| [ O ]\n",
      "test99\t| prediction:  spawn \n",
      "     \t| answer:  spawn\n",
      "Match\t| [ O ]\n",
      "test100\t| prediction:  build_net \n",
      "     \t| answer:  build_net\n",
      "Match\t| [ O ]\n",
      "test101\t| prediction:  build_net \n",
      "     \t| answer:  build_net\n",
      "Match\t| [ O ]\n",
      "test102\t| prediction:  hug_egg \n",
      "     \t| answer:  hug_egg\n",
      "Match\t| [ O ]\n",
      "test103\t| prediction:  fail \n",
      "     \t| answer:  fail\n",
      "Match\t| [ O ]\n",
      "test104\t| prediction:  build_net \n",
      "     \t| answer:  build_net\n",
      "Match\t| [ O ]\n",
      "test105\t| prediction:  hug_egg \n",
      "     \t| answer:  hug_egg\n",
      "Match\t| [ O ]\n",
      "test106\t| prediction:  spawn \n",
      "     \t| answer:  spawn\n",
      "Match\t| [ O ]\n",
      "test107\t| prediction:  before_net \n",
      "     \t| answer:  before_net\n",
      "Match\t| [ O ]\n",
      "test108\t| prediction:  spawn \n",
      "     \t| answer:  spawn\n",
      "Match\t| [ O ]\n",
      "test109\t| prediction:  out_net \n",
      "     \t| answer:  out_net\n",
      "Match\t| [ O ]\n",
      "test110\t| prediction:  fail \n",
      "     \t| answer:  fail\n",
      "Match\t| [ O ]\n",
      "test111\t| prediction:  hug_egg \n",
      "     \t| answer:  hug_egg\n",
      "Match\t| [ O ]\n",
      "test112\t| prediction:  build_net \n",
      "     \t| answer:  build_net\n",
      "Match\t| [ O ]\n",
      "test113\t| prediction:  fail \n",
      "     \t| answer:  fail\n",
      "Match\t| [ O ]\n",
      "test114\t| prediction:  out_net \n",
      "     \t| answer:  out_net\n",
      "Match\t| [ O ]\n",
      "test115\t| prediction:  hug_egg \n",
      "     \t| answer:  hug_egg\n",
      "Match\t| [ O ]\n",
      "test116\t| prediction:  yu_zhu_gi \n",
      "     \t| answer:  yu_zhu_gi\n",
      "Match\t| [ O ]\n",
      "test117\t| prediction:  build_net \n",
      "     \t| answer:  build_net\n",
      "Match\t| [ O ]\n",
      "test118\t| prediction:  build_net \n",
      "     \t| answer:  build_net\n",
      "Match\t| [ O ]\n",
      "test119\t| prediction:  spawn \n",
      "     \t| answer:  spawn\n",
      "Match\t| [ O ]\n",
      "test120\t| prediction:  build_net \n",
      "     \t| answer:  build_net\n",
      "Match\t| [ O ]\n",
      "test121\t| prediction:  hug_egg \n",
      "     \t| answer:  hug_egg\n",
      "Match\t| [ O ]\n",
      "test122\t| prediction:  hug_egg \n",
      "     \t| answer:  hug_egg\n",
      "Match\t| [ O ]\n",
      "test123\t| prediction:  build_net \n",
      "     \t| answer:  build_net\n",
      "Match\t| [ O ]\n",
      "test124\t| prediction:  out_net \n",
      "     \t| answer:  out_net\n",
      "Match\t| [ O ]\n",
      "test125\t| prediction:  out_net \n",
      "     \t| answer:  out_net\n",
      "Match\t| [ O ]\n",
      "test126\t| prediction:  yu_zhu_gi \n",
      "     \t| answer:  yu_zhu_gi\n",
      "Match\t| [ O ]\n",
      "test127\t| prediction:  hug_egg \n",
      "     \t| answer:  hug_egg\n",
      "Match\t| [ O ]\n",
      "test128\t| prediction:  before_net \n",
      "     \t| answer:  before_net\n",
      "Match\t| [ O ]\n",
      "test129\t| prediction:  yu_zhu_gi \n",
      "     \t| answer:  yu_zhu_gi\n",
      "Match\t| [ O ]\n",
      "test130\t| prediction:  out_net \n",
      "     \t| answer:  out_net\n",
      "Match\t| [ O ]\n",
      "test131\t| prediction:  build_net \n",
      "     \t| answer:  build_net\n",
      "Match\t| [ O ]\n",
      "test132\t| prediction:  hug_egg \n",
      "     \t| answer:  hug_egg\n",
      "Match\t| [ O ]\n",
      "test133\t| prediction:  build_net \n",
      "     \t| answer:  build_net\n",
      "Match\t| [ O ]\n",
      "test134\t| prediction:  fail \n",
      "     \t| answer:  fail\n",
      "Match\t| [ O ]\n",
      "test135\t| prediction:  hug_egg \n",
      "     \t| answer:  hug_egg\n",
      "Match\t| [ O ]\n",
      "test136\t| prediction:  spawn \n",
      "     \t| answer:  spawn\n",
      "Match\t| [ O ]\n",
      "test137\t| prediction:  hug_egg \n",
      "     \t| answer:  hug_egg\n",
      "Match\t| [ O ]\n",
      "test138\t| prediction:  spawn \n",
      "     \t| answer:  spawn\n",
      "Match\t| [ O ]\n",
      "test139\t| prediction:  hug_egg \n",
      "     \t| answer:  hug_egg\n",
      "Match\t| [ O ]\n",
      "test140\t| prediction:  out_net \n",
      "     \t| answer:  out_net\n",
      "Match\t| [ O ]\n",
      "test141\t| prediction:  build_net \n",
      "     \t| answer:  build_net\n",
      "Match\t| [ O ]\n",
      "test142\t| prediction:  spawn \n",
      "     \t| answer:  spawn\n",
      "Match\t| [ O ]\n",
      "test143\t| prediction:  hug_egg \n",
      "     \t| answer:  hug_egg\n",
      "Match\t| [ O ]\n",
      "test144\t| prediction:  build_net \n",
      "     \t| answer:  build_net\n",
      "Match\t| [ O ]\n",
      "test145\t| prediction:  build_net \n",
      "     \t| answer:  build_net\n",
      "Match\t| [ O ]\n",
      "test146\t| prediction:  out_net \n",
      "     \t| answer:  out_net\n",
      "Match\t| [ O ]\n",
      "test147\t| prediction:  fail \n",
      "     \t| answer:  fail\n",
      "Match\t| [ O ]\n",
      "test148\t| prediction:  before_net \n",
      "     \t| answer:  before_net\n",
      "Match\t| [ O ]\n",
      "test149\t| prediction:  fail \n",
      "     \t| answer:  fail\n",
      "Match\t| [ O ]\n",
      "test150\t| prediction:  build_net \n",
      "     \t| answer:  build_net\n",
      "Match\t| [ O ]\n",
      "Accuracy:  1.0 %.\n"
     ]
    }
   ],
   "source": [
    "main_testing(x_test, y_test)"
   ]
  },
  {
   "cell_type": "code",
   "execution_count": 74,
   "metadata": {
    "colab": {
     "base_uri": "https://localhost:8080/",
     "height": 1000
    },
    "executionInfo": {
     "elapsed": 1971,
     "status": "ok",
     "timestamp": 1657375910679,
     "user": {
      "displayName": "Po-Han Lee",
      "userId": "10869935399171361419"
     },
     "user_tz": -480
    },
    "id": "QTKll2oSnvyU",
    "outputId": "2b7613e7-022b-49fc-ce73-31135ae130cc"
   },
   "outputs": [
    {
     "name": "stdout",
     "output_type": "stream",
     "text": [
      "Normalized confusion matrix\n",
      "[[1.         0.         0.         0.         0.         0.\n",
      "  0.        ]\n",
      " [0.         0.99512195 0.         0.00487805 0.         0.\n",
      "  0.        ]\n",
      " [0.         0.         1.         0.         0.         0.\n",
      "  0.        ]\n",
      " [0.         0.         0.         1.         0.         0.\n",
      "  0.        ]\n",
      " [0.         0.         0.         0.         1.         0.\n",
      "  0.        ]\n",
      " [0.         0.         0.         0.         0.         1.\n",
      "  0.        ]\n",
      " [0.         0.         0.         0.         0.         0.\n",
      "  1.        ]]\n"
     ]
    },
    {
     "data": {
      "image/png": "[encoded data removed]",
      "text/plain": [
       "<Figure size 1500x1500 with 2 Axes>"
      ]
     },
     "metadata": {
      "needs_background": "light"
     },
     "output_type": "display_data"
    }
   ],
   "source": [
    "main_confusion(x_test, y_test)"
   ]
  },
  {
   "cell_type": "code",
   "execution_count": null,
   "metadata": {
    "id": "x1XMl8HrtNdi"
   },
   "outputs": [],
   "source": []
  }
 ],
 "metadata": {
  "accelerator": "GPU",
  "colab": {
   "collapsed_sections": [
    "dUjNWHMQ_vOg",
    "vNyofQOUACfX",
    "_BI0wNrk_oQp"
   ],
   "name": "bird_sound_dropout.ipynb",
   "provenance": []
  },
  "gpuClass": "standard",
  "kernelspec": {
   "display_name": "Python 3 (ipykernel)",
   "language": "python",
   "name": "python3"
  },
  "language_info": {
   "codemirror_mode": {
    "name": "ipython",
    "version": 3
   },
   "file_extension": ".py",
   "mimetype": "text/x-python",
   "name": "python",
   "nbconvert_exporter": "python",
   "pygments_lexer": "ipython3",
   "version": "3.7.13"
  }
 },
 "nbformat": 4,
 "nbformat_minor": 1
}
